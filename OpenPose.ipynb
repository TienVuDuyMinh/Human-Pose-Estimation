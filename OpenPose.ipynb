{
 "cells": [
  {
   "cell_type": "code",
   "execution_count": 3,
   "id": "0e2f985c",
   "metadata": {},
   "outputs": [
    {
     "name": "stdout",
     "output_type": "stream",
     "text": [
      "Note: you may need to restart the kernel to use updated packages.\n"
     ]
    },
    {
     "name": "stderr",
     "output_type": "stream",
     "text": [
      "ERROR: Could not find a version that satisfies the requirement openpose (from versions: none)\n",
      "ERROR: No matching distribution found for openpose\n"
     ]
    }
   ],
   "source": [
    "%pip install openpose"
   ]
  },
  {
   "cell_type": "code",
   "execution_count": 1,
   "id": "763b6de8",
   "metadata": {},
   "outputs": [],
   "source": [
    "import cv2\n",
    "import os\n",
    "import sys\n",
    "import numpy as np"
   ]
  },
  {
   "cell_type": "code",
   "execution_count": null,
   "id": "a261860b",
   "metadata": {},
   "outputs": [],
   "source": [
    "openpose_path = r\"D:\\code_etc\\Python\\_File_code\\openpose\"\n",
    "\n",
    "sys.path.append(os.path.join(openpose_path, \"build\", \"python\"))\n",
    "from openpose import pyopenpose as op"
   ]
  },
  {
   "cell_type": "code",
   "execution_count": null,
   "id": "7329bddf",
   "metadata": {},
   "outputs": [],
   "source": [
    "# cấu hình openpose\n",
    "params = dict()\n",
    "params[\"model_folder\"] = os.path.join(openpose_path, \"models\")\n",
    "params[\"hand\"] = False\n",
    "params[\"face\"] = False\n",
    "\n",
    "opWrapper = op.WrapperPython()\n",
    "opWrapper.configure(params)\n",
    "opWrapper.start()"
   ]
  },
  {
   "cell_type": "code",
   "execution_count": null,
   "id": "f57bfc85",
   "metadata": {},
   "outputs": [],
   "source": [
    "def rgb_to_skeleton(input_folder, output_folder):\n",
    "    os.makedirs(output_folder, exist_ok=True)\n",
    "    \n",
    "    for img_name in os.listdir(input_folder):\n",
    "        if not (img_name.endswith(\".jpg\") or img_name.endswith(\".png\")):\n",
    "            continue\n",
    "        \n",
    "        img_path = os.path.join(input_folder, img_name)\n",
    "        image = cv2.imread(img_path)\n",
    "\n",
    "        datum = op.Datum()\n",
    "        datum.cvInputData = image\n",
    "        opWrapper.emplaceAndPop([datum])\n",
    "\n",
    "        keypoints = datum.poseKeypoints  # (nPerson, 25, 3)\n",
    "        \n",
    "        if keypoints is not None:\n",
    "            # Lưu keypoints ra file npy\n",
    "            np.save(os.path.join(output_folder, img_name.replace(\".jpg\", \".npy\").replace(\".png\", \".npy\")), keypoints)\n",
    "            \n",
    "            # Lưu thêm ảnh có vẽ skeleton\n",
    "            cv2.imwrite(os.path.join(output_folder, img_name), datum.cvOutputData)\n",
    "\n",
    "            print(f\"Processed {img_name} -> skeleton saved\")\n",
    "        else:\n",
    "            print(f\"No person detected in {img_name}\")"
   ]
  },
  {
   "cell_type": "code",
   "execution_count": null,
   "id": "9526f5a1",
   "metadata": {},
   "outputs": [],
   "source": [
    "input_folder = r\"D:\\Download\\data\\PoseEstimation\\PE\"\n",
    "output_folder = r\"D:\\Download\\data\\PoseEstimation\\skeleton_out\"\n",
    "\n",
    "rgb_to_skeleton(input_folder, output_folder)\n"
   ]
  }
 ],
 "metadata": {
  "kernelspec": {
   "display_name": "Python 3",
   "language": "python",
   "name": "python3"
  },
  "language_info": {
   "codemirror_mode": {
    "name": "ipython",
    "version": 3
   },
   "file_extension": ".py",
   "mimetype": "text/x-python",
   "name": "python",
   "nbconvert_exporter": "python",
   "pygments_lexer": "ipython3",
   "version": "3.11.9"
  }
 },
 "nbformat": 4,
 "nbformat_minor": 5
}
